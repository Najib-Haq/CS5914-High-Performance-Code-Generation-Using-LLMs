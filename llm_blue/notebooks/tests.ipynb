{
 "cells": [
  {
   "cell_type": "code",
   "execution_count": 11,
   "metadata": {},
   "outputs": [],
   "source": [
    "import sys\n",
    "import os\n",
    "import asyncio\n",
    "\n",
    "blue_root = os.path.abspath('..')\n",
    "if blue_root not in sys.path:\n",
    "    sys.path.append(blue_root)\n",
    "\n",
    "from agent_functions import (\n",
    "    get_subsets,\n",
    "    run_code,\n",
    "    get_optimization_techniques,\n",
    "    improve_code,\n",
    "    process_improvement,\n",
    "    parallel_optimize,\n",
    "    prepare_performance_data\n",
    ")"
   ]
  },
  {
   "cell_type": "code",
   "execution_count": 12,
   "metadata": {},
   "outputs": [],
   "source": [
    "from dotenv import load_dotenv\n",
    "load_dotenv()\n",
    "\n",
    "OPENAI_API_KEY = os.getenv(\"OPENAI_API_KEY\")\n",
    "GROQ_API_KEY = os.getenv(\"GROQ_API_KEY\")\n",
    "GOOGLE_API_KEY = os.getenv(\"GOOGLE_API_KEY\")\n",
    "\n",
    "missing_keys = [key for key, value in {\"OPENAI_API_KEY\": OPENAI_API_KEY, \"GROQ_API_KEY\": GROQ_API_KEY, \"GOOGLE_API_KEY\": GOOGLE_API_KEY}.items() if not value]\n",
    "if missing_keys: raise ValueError(f\"Missing environment variables: {', '.join(missing_keys)}\")\n"
   ]
  },
  {
   "cell_type": "code",
   "execution_count": 13,
   "metadata": {},
   "outputs": [],
   "source": [
    "from langchain_openai import ChatOpenAI\n",
    "from langchain_groq import ChatGroq\n",
    "from langchain_google_genai import ChatGoogleGenerativeAI\n",
    "\n",
    "\n",
    "gpt_llm = ChatOpenAI(\n",
    "    api_key=OPENAI_API_KEY,\n",
    "    model_name='gpt-4o-mini'\n",
    ")\n",
    "groq_llm = ChatGroq(\n",
    "    api_key=GROQ_API_KEY,\n",
    "    model=\"llama-3.3-70b-versatile\"\n",
    ")\n",
    "google_llm = ChatGoogleGenerativeAI(\n",
    "    model=\"gemini-1.5-pro\",\n",
    "    google_api_key=GOOGLE_API_KEY\n",
    ")\n"
   ]
  },
  {
   "cell_type": "code",
   "execution_count": 10,
   "metadata": {},
   "outputs": [
    {
     "name": "stdout",
     "output_type": "stream",
     "text": [
      "[0.7020 seconds] GPT LLM Response: Sure! Here is one token: `*`\n",
      "[0.4143 seconds] Groq LLM Response: Token\n",
      "[0.6027 seconds] Google Gemini LLM Response: Okay\n"
     ]
    }
   ],
   "source": [
    "import time\n",
    "\n",
    "llms = {\n",
    "    \"GPT LLM\": gpt_llm,\n",
    "    \"Groq LLM\": groq_llm,\n",
    "    \"Google Gemini LLM\": google_llm\n",
    "}\n",
    "\n",
    "for name, llm in llms.items():\n",
    "    start_time = time.time()\n",
    "    result = llm.invoke(\"Return one token.\")\n",
    "    elapsed_time = time.time() - start_time\n",
    "    print(f\"[{elapsed_time:.4f} seconds] {name} Response:\", result.content.strip())\n"
   ]
  },
  {
   "cell_type": "code",
   "execution_count": null,
   "metadata": {},
   "outputs": [],
   "source": []
  }
 ],
 "metadata": {
  "kernelspec": {
   "display_name": "llm-gen4hpc-GGjntC3h-py3.12",
   "language": "python",
   "name": "python3"
  },
  "language_info": {
   "codemirror_mode": {
    "name": "ipython",
    "version": 3
   },
   "file_extension": ".py",
   "mimetype": "text/x-python",
   "name": "python",
   "nbconvert_exporter": "python",
   "pygments_lexer": "ipython3",
   "version": "3.12.8"
  }
 },
 "nbformat": 4,
 "nbformat_minor": 2
}
